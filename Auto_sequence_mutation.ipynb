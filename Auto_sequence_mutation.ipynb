{
  "nbformat": 4,
  "nbformat_minor": 0,
  "metadata": {
    "colab": {
      "provenance": [],
      "authorship_tag": "ABX9TyP8Jcg22pql6SNgOnWWqDNh"
    },
    "kernelspec": {
      "name": "python3",
      "display_name": "Python 3"
    },
    "language_info": {
      "name": "python"
    }
  },
  "cells": [
    {
      "cell_type": "code",
      "source": [
        "#Copyright R. R. Syahdi, 2025"
      ],
      "metadata": {
        "id": "N5HAZZWVLofQ"
      },
      "execution_count": null,
      "outputs": []
    },
    {
      "cell_type": "code",
      "metadata": {
        "colab": {
          "base_uri": "https://localhost:8080/"
        },
        "id": "7774bff3",
        "outputId": "cb1a1ff3-c2b0-487d-b96d-f2bcaa75488e"
      },
      "source": [
        "# Install Biopython if you haven't already\n",
        "%pip install biopython"
      ],
      "execution_count": null,
      "outputs": [
        {
          "output_type": "stream",
          "name": "stdout",
          "text": [
            "Collecting biopython\n",
            "  Downloading biopython-1.85-cp312-cp312-manylinux_2_17_x86_64.manylinux2014_x86_64.whl.metadata (13 kB)\n",
            "Requirement already satisfied: numpy in /usr/local/lib/python3.12/dist-packages (from biopython) (2.0.2)\n",
            "Downloading biopython-1.85-cp312-cp312-manylinux_2_17_x86_64.manylinux2014_x86_64.whl (3.3 MB)\n",
            "\u001b[2K   \u001b[90m━━━━━━━━━━━━━━━━━━━━━━━━━━━━━━━━━━━━━━━━\u001b[0m \u001b[32m3.3/3.3 MB\u001b[0m \u001b[31m16.2 MB/s\u001b[0m eta \u001b[36m0:00:00\u001b[0m\n",
            "\u001b[?25hInstalling collected packages: biopython\n",
            "Successfully installed biopython-1.85\n"
          ]
        }
      ]
    },
    {
      "cell_type": "code",
      "source": [
        "from Bio import SeqIO\n",
        "from Bio.Seq import Seq\n",
        "from Bio.SeqRecord import SeqRecord\n",
        "import random\n"
      ],
      "metadata": {
        "id": "iwBMwjms-KLA"
      },
      "execution_count": null,
      "outputs": []
    },
    {
      "cell_type": "code",
      "source": [
        "def mutate_fasta(\n",
        "    input_fasta,\n",
        "    output_fasta=\"mutated_sequences.fasta\",\n",
        "    mutation_fraction=0.20,\n",
        "    similar_weight=0.10,\n",
        "    dissimilar_weight=0.90,\n",
        "    random_seed=42\n",
        "):\n",
        "    \"\"\"\n",
        "    Mutates an amino acid FASTA sequence and saves the result.\n",
        "    \"\"\"\n",
        "\n",
        "    from Bio import SeqIO\n",
        "    from Bio.Seq import Seq\n",
        "    from Bio.SeqRecord import SeqRecord\n",
        "    import random\n",
        "\n",
        "    def load_fasta(file_path):\n",
        "        for record in SeqIO.parse(file_path, \"fasta\"):\n",
        "            return str(record.seq)\n",
        "        raise ValueError(\"No sequence found in FASTA file.\")\n",
        "\n",
        "    def get_similar_amino_acid(amino_acid):\n",
        "        similar_groups = {\n",
        "            ('A', 'G', 'S', 'T'): ('A', 'G', 'S', 'T'),\n",
        "            ('V', 'L', 'I', 'M'): ('V', 'L', 'I', 'M'),\n",
        "            ('F', 'Y', 'W'): ('F', 'Y', 'W'),\n",
        "            ('P',): ('P',),\n",
        "            ('D', 'E'): ('D', 'E'),\n",
        "            ('N', 'Q'): ('N', 'Q'),\n",
        "            ('K', 'R', 'H'): ('K', 'R', 'H'),\n",
        "            ('C',): ('C',)\n",
        "        }\n",
        "        for group in similar_groups.values():\n",
        "            if amino_acid in group:\n",
        "                options = [aa for aa in group if aa != amino_acid]\n",
        "                return random.choice(options) if options else None\n",
        "        return None\n",
        "\n",
        "    def get_dissimilar_amino_acid(amino_acid):\n",
        "        all_amino_acids = \"ACDEFGHIKLMNPQRSTVWY\"\n",
        "        similar_groups = [\n",
        "            ('A', 'G', 'S', 'T'),\n",
        "            ('V', 'L', 'I', 'M'),\n",
        "            ('F', 'Y', 'W'),\n",
        "            ('P',),\n",
        "            ('D', 'E'),\n",
        "            ('N', 'Q'),\n",
        "            ('K', 'R', 'H'),\n",
        "            ('C',)\n",
        "        ]\n",
        "        similar_amino_acids = set()\n",
        "        for group in similar_groups:\n",
        "            if amino_acid in group:\n",
        "                similar_amino_acids.update(group)\n",
        "                break\n",
        "        dissimilar_amino_acids = [aa for aa in all_amino_acids if aa not in similar_amino_acids]\n",
        "        return random.choice(dissimilar_amino_acids)\n",
        "\n",
        "    random.seed(random_seed)\n",
        "    original_sequence = load_fasta(input_fasta)\n",
        "    sequence_list = list(original_sequence)\n",
        "\n",
        "    num_mutations = int(len(sequence_list) * mutation_fraction)\n",
        "    mutation_positions = random.sample(range(len(sequence_list)), num_mutations)\n",
        "\n",
        "    for pos in mutation_positions:\n",
        "        original = sequence_list[pos]\n",
        "        mutation_type = random.choices(\n",
        "            ['similar', 'dissimilar'],\n",
        "            weights=[similar_weight, dissimilar_weight],\n",
        "            k=1\n",
        "        )[0]\n",
        "\n",
        "        # FIX: add fallback to dissimilar if similar mutation fails\n",
        "        if mutation_type == 'similar':\n",
        "            new_aa = get_similar_amino_acid(original)\n",
        "            if new_aa is None:\n",
        "                new_aa = get_dissimilar_amino_acid(original)\n",
        "        else:\n",
        "            new_aa = get_dissimilar_amino_acid(original)\n",
        "\n",
        "        while new_aa == original:\n",
        "            new_aa = get_dissimilar_amino_acid(original)\n",
        "\n",
        "        sequence_list[pos] = new_aa\n",
        "\n",
        "    mutated_sequence = \"\".join(sequence_list)\n",
        "\n",
        "    mutated_record = SeqRecord(\n",
        "        Seq(mutated_sequence),\n",
        "        id=\"mutated_sequence\",\n",
        "        description=f\"{round(mutation_fraction*100)}% mutations, seed={random_seed}\"\n",
        "    )\n",
        "    with open(output_fasta, \"w\") as handle:\n",
        "        SeqIO.write([mutated_record], handle, \"fasta\")\n",
        "\n",
        "    print(f\"Mutated sequence saved to {output_fasta}\")\n",
        "    print(f\"Original length: {len(original_sequence)} | Mutations: {num_mutations}\")\n"
      ],
      "metadata": {
        "id": "FvmG8s6V-MZd"
      },
      "execution_count": null,
      "outputs": []
    },
    {
      "cell_type": "code",
      "source": [
        "mutate_fasta(\n",
        "    input_fasta=\"rcsb_pdb_5NN8.fasta\",\n",
        "    output_fasta=\"mutated_5NN8.fasta\", mutation_fraction=0.7\n",
        ")"
      ],
      "metadata": {
        "colab": {
          "base_uri": "https://localhost:8080/"
        },
        "id": "Wl4--6EH_R2S",
        "outputId": "ce044d7f-0258-4d4e-e9cd-8771c7087405"
      },
      "execution_count": null,
      "outputs": [
        {
          "output_type": "stream",
          "name": "stdout",
          "text": [
            "✅ Mutated sequence saved to mutated_5NN8.fasta\n",
            "Original length: 872 | Mutations: 610\n"
          ]
        }
      ]
    }
  ]
}